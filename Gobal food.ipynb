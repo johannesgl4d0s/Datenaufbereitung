{
 "cells": [
  {
   "cell_type": "code",
   "execution_count": 1,
   "metadata": {
    "collapsed": true
   },
   "outputs": [
    {
     "name": "stderr",
     "output_type": "stream",
     "text": [
      "C:\\Users\\johan\\AppData\\Local\\Temp\\ipykernel_3076\\3405832590.py:3: DtypeWarning: Columns (3) have mixed types. Specify dtype option on import or set low_memory=False.\n",
      "  df = pd.read_csv('global_food_prices.csv')\n"
     ]
    },
    {
     "data": {
      "text/plain": "   adm0_id    adm0_name  adm1_id   adm1_name  mkt_id  mkt_name  cm_id  \\\n0      1.0  Afghanistan      272  Badakhshan     266  Fayzabad     55   \n1      1.0  Afghanistan      272  Badakhshan     266  Fayzabad     55   \n2      1.0  Afghanistan      272  Badakhshan     266  Fayzabad     55   \n3      1.0  Afghanistan      272  Badakhshan     266  Fayzabad     55   \n4      1.0  Afghanistan      272  Badakhshan     266  Fayzabad     55   \n\n          cm_name  cur_id cur_name  pt_id pt_name  um_id um_name  mp_month  \\\n0  Bread - Retail     0.0      AFN     15  Retail      5      KG         1   \n1  Bread - Retail     0.0      AFN     15  Retail      5      KG         2   \n2  Bread - Retail     0.0      AFN     15  Retail      5      KG         3   \n3  Bread - Retail     0.0      AFN     15  Retail      5      KG         4   \n4  Bread - Retail     0.0      AFN     15  Retail      5      KG         5   \n\n   mp_year  mp_price  mp_commoditysource  \n0     2014      50.0                 NaN  \n1     2014      50.0                 NaN  \n2     2014      50.0                 NaN  \n3     2014      50.0                 NaN  \n4     2014      50.0                 NaN  ",
      "text/html": "<div>\n<style scoped>\n    .dataframe tbody tr th:only-of-type {\n        vertical-align: middle;\n    }\n\n    .dataframe tbody tr th {\n        vertical-align: top;\n    }\n\n    .dataframe thead th {\n        text-align: right;\n    }\n</style>\n<table border=\"1\" class=\"dataframe\">\n  <thead>\n    <tr style=\"text-align: right;\">\n      <th></th>\n      <th>adm0_id</th>\n      <th>adm0_name</th>\n      <th>adm1_id</th>\n      <th>adm1_name</th>\n      <th>mkt_id</th>\n      <th>mkt_name</th>\n      <th>cm_id</th>\n      <th>cm_name</th>\n      <th>cur_id</th>\n      <th>cur_name</th>\n      <th>pt_id</th>\n      <th>pt_name</th>\n      <th>um_id</th>\n      <th>um_name</th>\n      <th>mp_month</th>\n      <th>mp_year</th>\n      <th>mp_price</th>\n      <th>mp_commoditysource</th>\n    </tr>\n  </thead>\n  <tbody>\n    <tr>\n      <th>0</th>\n      <td>1.0</td>\n      <td>Afghanistan</td>\n      <td>272</td>\n      <td>Badakhshan</td>\n      <td>266</td>\n      <td>Fayzabad</td>\n      <td>55</td>\n      <td>Bread - Retail</td>\n      <td>0.0</td>\n      <td>AFN</td>\n      <td>15</td>\n      <td>Retail</td>\n      <td>5</td>\n      <td>KG</td>\n      <td>1</td>\n      <td>2014</td>\n      <td>50.0</td>\n      <td>NaN</td>\n    </tr>\n    <tr>\n      <th>1</th>\n      <td>1.0</td>\n      <td>Afghanistan</td>\n      <td>272</td>\n      <td>Badakhshan</td>\n      <td>266</td>\n      <td>Fayzabad</td>\n      <td>55</td>\n      <td>Bread - Retail</td>\n      <td>0.0</td>\n      <td>AFN</td>\n      <td>15</td>\n      <td>Retail</td>\n      <td>5</td>\n      <td>KG</td>\n      <td>2</td>\n      <td>2014</td>\n      <td>50.0</td>\n      <td>NaN</td>\n    </tr>\n    <tr>\n      <th>2</th>\n      <td>1.0</td>\n      <td>Afghanistan</td>\n      <td>272</td>\n      <td>Badakhshan</td>\n      <td>266</td>\n      <td>Fayzabad</td>\n      <td>55</td>\n      <td>Bread - Retail</td>\n      <td>0.0</td>\n      <td>AFN</td>\n      <td>15</td>\n      <td>Retail</td>\n      <td>5</td>\n      <td>KG</td>\n      <td>3</td>\n      <td>2014</td>\n      <td>50.0</td>\n      <td>NaN</td>\n    </tr>\n    <tr>\n      <th>3</th>\n      <td>1.0</td>\n      <td>Afghanistan</td>\n      <td>272</td>\n      <td>Badakhshan</td>\n      <td>266</td>\n      <td>Fayzabad</td>\n      <td>55</td>\n      <td>Bread - Retail</td>\n      <td>0.0</td>\n      <td>AFN</td>\n      <td>15</td>\n      <td>Retail</td>\n      <td>5</td>\n      <td>KG</td>\n      <td>4</td>\n      <td>2014</td>\n      <td>50.0</td>\n      <td>NaN</td>\n    </tr>\n    <tr>\n      <th>4</th>\n      <td>1.0</td>\n      <td>Afghanistan</td>\n      <td>272</td>\n      <td>Badakhshan</td>\n      <td>266</td>\n      <td>Fayzabad</td>\n      <td>55</td>\n      <td>Bread - Retail</td>\n      <td>0.0</td>\n      <td>AFN</td>\n      <td>15</td>\n      <td>Retail</td>\n      <td>5</td>\n      <td>KG</td>\n      <td>5</td>\n      <td>2014</td>\n      <td>50.0</td>\n      <td>NaN</td>\n    </tr>\n  </tbody>\n</table>\n</div>"
     },
     "execution_count": 1,
     "metadata": {},
     "output_type": "execute_result"
    }
   ],
   "source": [
    "import pandas as pd\n",
    "\n",
    "df = pd.read_csv('global_food_prices.csv')\n",
    "\n",
    "df.head()"
   ]
  },
  {
   "cell_type": "code",
   "execution_count": 15,
   "outputs": [
    {
     "data": {
      "text/plain": "National Average    19748\nBogota               5798\nKhujand              5270\nDushanbe             5270\nGharm                5241\n                    ...  \nFaya                    2\nSocogim                 2\nVigwagwa                1\nAli Addeh               1\nKalombo                 1\nName: mkt_name, Length: 3235, dtype: int64"
     },
     "execution_count": 15,
     "metadata": {},
     "output_type": "execute_result"
    }
   ],
   "source": [
    "df.mkt_name.value_counts()"
   ],
   "metadata": {
    "collapsed": false
   }
  },
  {
   "cell_type": "code",
   "execution_count": 20,
   "outputs": [
    {
     "data": {
      "text/plain": "Turkey                3407\nNicaragua             2331\nEgypt                 2304\nGuatemala             2230\nIndonesia             1663\nJordan                1309\nUkraine               1125\nKyrgyzstan            1054\nSwaziland              932\nBassas da India        775\nHonduras               655\nArmenia                306\nCosta Rica             297\nTajikistan             255\nEl Salvador            244\nSri Lanka              194\nPanama                 174\nAzerbaijan             125\nSouth Sudan            118\nBhutan                  78\nDominican Republic      53\nLibya                   49\nChad                    41\nLebanon                 13\nIraq                     8\nVenezuela                6\nMozambique               2\nName: adm0_name, dtype: int64"
     },
     "execution_count": 20,
     "metadata": {},
     "output_type": "execute_result"
    }
   ],
   "source": [
    "df[df.mkt_name == 'National Average']['adm0_name'].value_counts()"
   ],
   "metadata": {
    "collapsed": false
   }
  },
  {
   "cell_type": "code",
   "execution_count": null,
   "outputs": [],
   "source": [],
   "metadata": {
    "collapsed": false
   }
  }
 ],
 "metadata": {
  "kernelspec": {
   "display_name": "Python 3",
   "language": "python",
   "name": "python3"
  },
  "language_info": {
   "codemirror_mode": {
    "name": "ipython",
    "version": 2
   },
   "file_extension": ".py",
   "mimetype": "text/x-python",
   "name": "python",
   "nbconvert_exporter": "python",
   "pygments_lexer": "ipython2",
   "version": "2.7.6"
  }
 },
 "nbformat": 4,
 "nbformat_minor": 0
}
