{
 "cells": [
  {
   "cell_type": "markdown",
   "source": [
    "Schere, Stein, Papier\n",
    "Erstelle ein Python Programm welches das Spiel „Schere Stein Papier“ emuliert.\n",
    "\n",
    "Das Programm soll den Benutzer fragen welche Option Spieler 1 bzw. Spieler 2 wählt (Mögliche Optionen sind \"Schere\", \"Stein\", \"Papier\"). (Dies kann auch über direktes aufrufen von Klassen geschehen)\n",
    "\n",
    "Danach soll das Programm den Gewinner ausgeben. Sollte es keinen Gewinner geben, soll \"Unentschieden\" ausgegeben werden.\n",
    "\n",
    "Wenn der Benutzer etwas Anderes eingibt als o.a. Optionen soll das Programm einen Fehler ausgeben, der besagt, dass dies keine gültige Option ist. Er/Sie möge doch eine der drei Optionen verwenden.\n",
    "\n",
    "Tipp: Erstelle eine Klasse „Spieler“ welche ein Parameter übernimmt („Schere“....)\n",
    "\n",
    "Überprüfe in der Klasse ob der Parameter gültig ist.\n",
    "\n",
    "Optional extra points (+3)\n",
    "Extend Rock, paper, scissors with lizard, Spock! For more information visit: https://www.youtube.com/watch?v=x5Q6-wMx-K8"
   ],
   "metadata": {
    "collapsed": false
   }
  },
  {
   "cell_type": "code",
   "execution_count": 10,
   "outputs": [],
   "source": [
    "class Player:\n",
    "    __option = ['Schere', 'Stein', 'Papier']\n",
    "    # add constructor, which receives option\n",
    "    def __init__(self, var):\n",
    "    ## calling the set_a() method to set the value 'a' by checking certain conditions\n",
    "        self.get_a(var)\n",
    "    # add private setter for option\n",
    "    def set_a(self):\n",
    "        return self.__options\n",
    "    # add public getter\n",
    "    def get_a(self, var):\n",
    "        if var not in self.__option:\n",
    "            print('not ok. please pick another option')\n",
    "\n",
    "\n",
    "\n",
    "\n",
    "    a = property(get_a, set_a)"
   ],
   "metadata": {
    "collapsed": false
   }
  },
  {
   "cell_type": "code",
   "execution_count": 12,
   "outputs": [
    {
     "name": "stdout",
     "output_type": "stream",
     "text": [
      "not ok. please pick another option\n"
     ]
    },
    {
     "data": {
      "text/plain": "<__main__.Player at 0x2db2a8e6fa0>"
     },
     "execution_count": 12,
     "metadata": {},
     "output_type": "execute_result"
    }
   ],
   "source": [
    "Player('müll')"
   ],
   "metadata": {
    "collapsed": false
   }
  },
  {
   "cell_type": "code",
   "execution_count": 20,
   "outputs": [],
   "source": [
    "class Game:\n",
    "    def __init__(self, Player_One: Player, Player_Two: Player):\n",
    "        self.Player_One = Player_One\n",
    "        self.Player_Two = Player_Two\n",
    "        Player(Player_One)\n",
    "        Player(Player_Two)\n",
    "\n",
    "        return\n",
    "    def play():\n",
    "        return"
   ],
   "metadata": {
    "collapsed": false
   }
  },
  {
   "cell_type": "code",
   "execution_count": 23,
   "outputs": [
    {
     "name": "stdout",
     "output_type": "stream",
     "text": [
      "not ok. please pick another option\n",
      "not ok. please pick another option\n"
     ]
    },
    {
     "data": {
      "text/plain": "<__main__.Game at 0x2db2a8c5e80>"
     },
     "execution_count": 23,
     "metadata": {},
     "output_type": "execute_result"
    }
   ],
   "source": [
    "Game('müll','Müll')"
   ],
   "metadata": {
    "collapsed": false
   }
  },
  {
   "cell_type": "code",
   "execution_count": 25,
   "outputs": [
    {
     "data": {
      "text/plain": "'Papier'"
     },
     "execution_count": 25,
     "metadata": {},
     "output_type": "execute_result"
    }
   ],
   "source": [
    "play_option= {'Schere': 'Papier',\n",
    "              'Stein' : 'Schere',\n",
    "              'Papier': 'Stein'}\n"
   ],
   "metadata": {
    "collapsed": false
   }
  },
  {
   "cell_type": "code",
   "execution_count": 32,
   "outputs": [
    {
     "name": "stdout",
     "output_type": "stream",
     "text": [
      "Note: you may need to restart the kernel to use updated packages.\n"
     ]
    },
    {
     "name": "stderr",
     "output_type": "stream",
     "text": [
      "ERROR: Could not find a version that satisfies the requirement time (from versions: none)\n",
      "ERROR: No matching distribution found for time\n"
     ]
    }
   ],
   "source": [],
   "metadata": {
    "collapsed": false
   }
  },
  {
   "cell_type": "code",
   "execution_count": 33,
   "outputs": [
    {
     "name": "stdout",
     "output_type": "stream",
     "text": [
      "player 1 has won\n"
     ]
    },
    {
     "ename": "KeyError",
     "evalue": "''",
     "output_type": "error",
     "traceback": [
      "\u001B[1;31m---------------------------------------------------------------------------\u001B[0m",
      "\u001B[1;31mKeyError\u001B[0m                                  Traceback (most recent call last)",
      "Input \u001B[1;32mIn [33]\u001B[0m, in \u001B[0;36m<cell line: 3>\u001B[1;34m()\u001B[0m\n\u001B[0;32m      4\u001B[0m massage1 \u001B[38;5;241m=\u001B[39m \u001B[38;5;28minput\u001B[39m(\u001B[38;5;124m'\u001B[39m\u001B[38;5;124mChoose\u001B[39m\u001B[38;5;124m'\u001B[39m)\n\u001B[0;32m      5\u001B[0m massage2 \u001B[38;5;241m=\u001B[39m \u001B[38;5;28minput\u001B[39m(\u001B[38;5;124m'\u001B[39m\u001B[38;5;124mChoose2\u001B[39m\u001B[38;5;124m'\u001B[39m)\n\u001B[1;32m----> 6\u001B[0m \u001B[38;5;28;01mif\u001B[39;00m \u001B[43mplay_option\u001B[49m\u001B[43m[\u001B[49m\u001B[43mmassage1\u001B[49m\u001B[43m]\u001B[49m \u001B[38;5;241m==\u001B[39m massage2:\n\u001B[0;32m      7\u001B[0m     \u001B[38;5;28mprint\u001B[39m(\u001B[38;5;124m'\u001B[39m\u001B[38;5;124mplayer 1 has won\u001B[39m\u001B[38;5;124m'\u001B[39m)\n\u001B[0;32m      8\u001B[0m \u001B[38;5;28;01melif\u001B[39;00m play_option[massage2] \u001B[38;5;241m==\u001B[39m massage1:\n",
      "\u001B[1;31mKeyError\u001B[0m: ''"
     ]
    }
   ],
   "source": [
    "import time\n",
    "game = True\n",
    "while game == True:\n",
    "    massage1 = input('Choose')\n",
    "    massage2 = input('Choose2')\n",
    "    if play_option[massage1] == massage2:\n",
    "        print('player 1 has won')\n",
    "    elif play_option[massage2] == massage1:\n",
    "        print('player 2 has won')\n",
    "    else:\n",
    "        print('unentschieden')\n",
    "    time.sleep(1)"
   ],
   "metadata": {
    "collapsed": false
   }
  },
  {
   "cell_type": "code",
   "execution_count": 30,
   "outputs": [],
   "source": [
    "class AnotherWay:\n",
    "    __option = ['Schere', 'Stein', 'Papier']\n",
    "    def __init__(self, var):\n",
    "        ## calling the set_a() method to set the value 'a' by checking certain conditions\n",
    "        self.get_a(var)\n",
    "\n",
    "\n",
    "\n",
    "    ## setter method to change the value 'a' using an object\n",
    "    def set_a(self):\n",
    "        return self.__options\n",
    "\n",
    "\n",
    "    ## getter method to get the properties using an object\n",
    "    def get_a(self, var):\n",
    "        if var in self.__option:\n",
    "            print('ok')\n",
    "        else:\n",
    "            print('not okay')\n",
    "\n",
    "\n",
    "\n",
    "    a = property(get_a, set_a)\n"
   ],
   "metadata": {
    "collapsed": false
   }
  },
  {
   "cell_type": "code",
   "execution_count": 6,
   "outputs": [
    {
     "name": "stdout",
     "output_type": "stream",
     "text": [
      "not okay\n"
     ]
    },
    {
     "data": {
      "text/plain": "<__main__.AnotherWay at 0x2db2a540460>"
     },
     "execution_count": 6,
     "metadata": {},
     "output_type": "execute_result"
    }
   ],
   "source": [
    "AnotherWay('schere')"
   ],
   "metadata": {
    "collapsed": false
   }
  },
  {
   "cell_type": "code",
   "execution_count": null,
   "outputs": [],
   "source": [],
   "metadata": {
    "collapsed": false
   }
  }
 ],
 "metadata": {
  "kernelspec": {
   "display_name": "Python 3",
   "language": "python",
   "name": "python3"
  },
  "language_info": {
   "codemirror_mode": {
    "name": "ipython",
    "version": 2
   },
   "file_extension": ".py",
   "mimetype": "text/x-python",
   "name": "python",
   "nbconvert_exporter": "python",
   "pygments_lexer": "ipython2",
   "version": "2.7.6"
  }
 },
 "nbformat": 4,
 "nbformat_minor": 0
}
